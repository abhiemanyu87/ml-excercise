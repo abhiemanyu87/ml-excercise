{
 "cells": [
  {
   "cell_type": "markdown",
   "metadata": {},
   "source": [
    "**Load necessary library**"
   ]
  },
  {
   "cell_type": "code",
   "execution_count": null,
   "metadata": {},
   "outputs": [],
   "source": [
    "import tensorflow as tf\n",
    "from __future__ import absolute_import, division, print_function, unicode_literals"
   ]
  },
  {
   "cell_type": "code",
   "execution_count": 2,
   "metadata": {},
   "outputs": [],
   "source": [
    "import numpy as np\n",
    "import logging\n",
    "logger = tf.get_logger()\n",
    "logger.setLevel(logging.ERROR)"
   ]
  },
  {
   "cell_type": "markdown",
   "metadata": {},
   "source": [
    "Intinya, kita punya **data** yang ada mapping **kolom A** dan **kolom B**. Kita tahu bahwa ada **relationship** dikolom-kolom tersebut tapi kita tidak tau formulasinya. Nah, disinilah yang dimaksud dengan **training** data. Kita __suruh__ \"komputer\" untuk menebak relasi atau formula tersebut.\n",
    "\n",
    "Contoh dibawah ini ada data konversi suhu dari **Celcius** ke **Fahrenheit**. Ya memang sih ada rumusnya **F = C x 1.8 + 32**, lha yang coba ditebak oleh komputer ya rumusnya itu.\n",
    "\n",
    "Agak kontradiktif, ada yang lebih mudah tinggal pake rumus saja kok malah harus bikin machine learning segala. Ya ini namanya belajar fundamental dulu karena ini yang mendasari semua jenis machine learning yang akan kita pelajari. Jadi sabar ya."
   ]
  },
  {
   "cell_type": "markdown",
   "metadata": {},
   "source": [
    "Datanya seperti ini nih;\n",
    "\n",
    "    -40 C = -40 F\n",
    "    -10 C = 14 F\n",
    "      0 C = 32 F\n",
    "      8 C = 46 F\n",
    "     15 C = 59 F\n",
    "        dst\n",
    "Bisa dilihat ya konversinya seperti itu, jadi **C** sebagai __input__ dan **F** sebagai __output__. Kalo kita belum tau rumusnya kan bingung itu ngitungnya gimana kok gitu, ya kan?"
   ]
  },
  {
   "cell_type": "code",
   "execution_count": null,
   "metadata": {},
   "outputs": [],
   "source": []
  },
  {
   "cell_type": "code",
   "execution_count": 3,
   "metadata": {},
   "outputs": [
    {
     "name": "stdout",
     "output_type": "stream",
     "text": [
      "-40 degress C = -40 degress F\n",
      "-10 degress C = 14 degress F\n",
      "0 degress C = 32 degress F\n",
      "8 degress C = 46 degress F\n",
      "15 degress C = 59 degress F\n",
      "22 degress C = 72 degress F\n",
      "38 degress C = 100 degress F\n"
     ]
    }
   ],
   "source": [
    "celcius_i = np.array([-40, -10, 0, 8, 15, 22, 38])\n",
    "fahrenheit_o = np.array([-40, 14, 32, 46, 59, 72, 100])\n",
    "\n",
    "for i,c in enumerate(celcius_i):\n",
    "    print(\"{} C = {} F\".format(c, fahrenheit_o[i]))"
   ]
  },
  {
   "cell_type": "markdown",
   "metadata": {},
   "source": [
    "Ok, sampai disini kita paham ya soal **data**\n",
    "Selanjutnya kita ngomongin tentang **model** yang kita _suruh_ menebak rumus relasi data diatas.\n",
    "\n",
    "**Model** itu gambaran matematika dimana ada **input**, **process** dan **output**. Dalam konteks machine learning, komponen-komponen itu disebut **Layer**\n",
    "\n",
    "<table>\n",
    "  <tr><td>\n",
    "    <img src=\"https://raw.githubusercontent.com/abhiemanyu87/ml-excercise/master/img/dense_layer.PNG\"\n",
    "         alt=\"Dense Layer\" width=\"600\">\n",
    "  </td></tr>\n",
    "  <tr><td align=\"center\">\n",
    "    <b>Figure 1. Dense Layer</b>\n",
    "  </td></tr>\n",
    "</table>\n",
    "\n",
    "Disebut **Hidden Layer** karena kita gak perlu tau proses apa yang ada dalam layer tersebut. Tapi pada dasarnya proses itu adalah proses penyesuaian nilai internal variable dalam layer tersebut agar output sesuai dengan data training.\n",
    "\n",
    "**Dense** layer adalah _fully-connected_ layer dimana node atau **neuron** saling terhubung antara layer awal dan layer selanjutnya.\n",
    "\n",
    "Gambar tersebut hanya ilustrasi susunan layer dalam model. Tidak harus kok model memiliki jumlah 3 atau lebih. Bahkan model yang kita gunakan dalam latihan ini cuma satu.\n"
   ]
  },
  {
   "cell_type": "markdown",
   "metadata": {},
   "source": [
    "**Model creation**\n",
    "\n",
    "Kita bikin layer dulu pake `tf.keras.layers.Dense` dengan parameter `units=1` karena kita butuh 1 neuron. Kemudian `input_shape=[1]` karena layer ini terhubung dari input dengan satu input parameter.\n",
    "\n",
    "Oh iya, karena kita pake `Dense layer` jadi otomatis neuron terhubung dengan input dan output ya "
   ]
  },
  {
   "cell_type": "code",
   "execution_count": 24,
   "metadata": {},
   "outputs": [],
   "source": [
    "layer0 = tf.keras.layers.Dense(units=1, input_shape=[1])"
   ]
  },
  {
   "cell_type": "markdown",
   "metadata": {},
   "source": [
    "Setelah bikin layer, kita rangkai layer tersebut menjadi model dengan `tf.keras.Sequential`."
   ]
  },
  {
   "cell_type": "code",
   "execution_count": 25,
   "metadata": {},
   "outputs": [],
   "source": [
    "model = tf.keras.Sequential([\n",
    "        layer0\n",
    "])"
   ]
  },
  {
   "cell_type": "code",
   "execution_count": null,
   "metadata": {},
   "outputs": [],
   "source": []
  },
  {
   "cell_type": "code",
   "execution_count": 26,
   "metadata": {},
   "outputs": [],
   "source": [
    "model.compile(loss='mean_squared_error', optimizer=tf.keras.optimizers.Adam(0.1))"
   ]
  },
  {
   "cell_type": "code",
   "execution_count": 27,
   "metadata": {},
   "outputs": [
    {
     "name": "stdout",
     "output_type": "stream",
     "text": [
      "Finished training.\n"
     ]
    }
   ],
   "source": [
    "history = model.fit(celcius_i, fahrenheit_o, epochs=500, verbose=False)\n",
    "print(\"Finished training.\")"
   ]
  },
  {
   "cell_type": "code",
   "execution_count": 28,
   "metadata": {},
   "outputs": [
    {
     "data": {
      "image/png": "[encoded data removed]",
      "text/plain": [
       "<matplotlib.figure.Figure at 0x7fd98009f438>"
      ]
     },
     "metadata": {
      "needs_background": "light"
     },
     "output_type": "display_data"
    }
   ],
   "source": [
    "import matplotlib.pyplot as plot\n",
    "plot.xlabel(\"Epoch\")\n",
    "plot.ylabel(\"Loss\")\n",
    "plot.plot(history.history['loss'])\n",
    "plot.show()"
   ]
  },
  {
   "cell_type": "code",
   "execution_count": 29,
   "metadata": {},
   "outputs": [
    {
     "name": "stdout",
     "output_type": "stream",
     "text": [
      "100.0 C is [[211.7474]] F\n"
     ]
    }
   ],
   "source": [
    "value = model.predict([100.0])\n",
    "print(\"100.0 C is {} F\".format(value))"
   ]
  },
  {
   "cell_type": "code",
   "execution_count": 30,
   "metadata": {},
   "outputs": [
    {
     "name": "stdout",
     "output_type": "stream",
     "text": [
      "98 C = [[208.15152]] F\n"
     ]
    }
   ],
   "source": [
    "value = model.predict([98])\n",
    "print(\"98 C = {} F\".format(value))"
   ]
  },
  {
   "cell_type": "code",
   "execution_count": 31,
   "metadata": {},
   "outputs": [
    {
     "name": "stdout",
     "output_type": "stream",
     "text": [
      "weights [array([[ 0.23469843,  0.79884714, -0.6798262 , -0.7416295 ],\n",
      "       [-0.7497317 , -0.00573947, -0.37555486, -0.2632617 ],\n",
      "       [ 0.59369755, -0.46305197,  0.02435504, -0.3388907 ],\n",
      "       [ 0.07763465,  0.12920234,  0.6454109 ,  1.1977391 ]],\n",
      "      dtype=float32), array([ 2.8613427, -2.8679228,  3.174113 ,  3.1838791], dtype=float32)]\n"
     ]
    }
   ],
   "source": [
    "weights = layer1.get_weights()\n",
    "print(\"weights {}\".format(weights))"
   ]
  },
  {
   "cell_type": "code",
   "execution_count": null,
   "metadata": {},
   "outputs": [],
   "source": []
  }
 ],
 "metadata": {
  "kernelspec": {
   "display_name": "Python 3",
   "language": "python",
   "name": "python3"
  },
  "language_info": {
   "codemirror_mode": {
    "name": "ipython",
    "version": 3
   },
   "file_extension": ".py",
   "mimetype": "text/x-python",
   "name": "python",
   "nbconvert_exporter": "python",
   "pygments_lexer": "ipython3",
   "version": "3.7.5"
  }
 },
 "nbformat": 4,
 "nbformat_minor": 2
}
